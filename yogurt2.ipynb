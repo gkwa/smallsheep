{
  "nbformat": 4,
  "nbformat_minor": 0,
  "metadata": {
    "colab": {
      "provenance": []
    },
    "kernelspec": {
      "name": "python3",
      "display_name": "Python 3"
    },
    "language_info": {
      "name": "python"
    }
  },
  "cells": [
    {
      "cell_type": "code",
      "source": [
        "# Plain Nonfat Yogurt Classification using Random Forest + TF-IDF Approach\n",
        "# Import necessary libraries\n",
        "import pandas\n",
        "import numpy\n",
        "import json\n",
        "import re\n",
        "import requests\n",
        "import sklearn.feature_extraction.text\n",
        "import sklearn.ensemble\n",
        "import sklearn.model_selection\n",
        "import sklearn.metrics\n",
        "import matplotlib.pyplot\n",
        "import seaborn\n",
        "\n",
        "# Set display options to show full column names and more rows\n",
        "pandas.set_option('display.max_columns', None)  # Show all columns\n",
        "pandas.set_option('display.width', 1000)        # Wider display\n",
        "pandas.set_option('display.max_colwidth', None) # Show full column content\n",
        "pandas.set_option('display.max_rows', 100)      # Show n rows\n",
        "\n",
        "# Load data directly from GitHub\n",
        "url = \"https://raw.githubusercontent.com/gkwa/smallsheep/master/plain_yogurt.json\"\n",
        "response = requests.get(url)\n",
        "data = response.json()\n",
        "\n",
        "# Create DataFrame\n",
        "df = pandas.DataFrame(data)\n",
        "\n",
        "# Display the column names to understand the structure\n",
        "print(\"Column names in the dataset:\")\n",
        "print(df.columns.tolist())\n",
        "\n",
        "# Remove the confidence field since it's not relevant\n",
        "if 'confidence' in df.columns:\n",
        "    df = df.drop(columns=['confidence'])\n",
        "\n",
        "# Create new target column for \"plain nonfat yogurt\"\n",
        "# A product is plain nonfat yogurt if it's yogurt AND plain AND nonfat\n",
        "df['is_plain_nonfat_yogurt'] = (df['is_yogurt'] & df['is_plain'] & df['is_nonfat'])"
      ],
      "metadata": {
        "colab": {
          "base_uri": "https://localhost:8080/"
        },
        "id": "blViAjSdsk9n",
        "outputId": "86349b5b-766c-445f-daec-fd8cb08ac263"
      },
      "execution_count": 99,
      "outputs": [
        {
          "output_type": "stream",
          "name": "stdout",
          "text": [
            "Column names in the dataset:\n",
            "['product_title', 'is_yogurt', 'is_plain', 'is_nonfat']\n"
          ]
        }
      ]
    },
    {
      "cell_type": "code",
      "source": [
        "# Print sample data to verify our processing\n",
        "print(\"\\nExample data with new target column:\")\n",
        "print(df.head(10))"
      ],
      "metadata": {
        "colab": {
          "base_uri": "https://localhost:8080/"
        },
        "id": "HGQKmsoCuxe6",
        "outputId": "59b1270f-2764-477d-d919-2aba3980e067"
      },
      "execution_count": 100,
      "outputs": [
        {
          "output_type": "stream",
          "name": "stdout",
          "text": [
            "\n",
            "Example data with new target column:\n",
            "                                                                 product_title  is_yogurt  is_plain  is_nonfat  is_plain_nonfat_yogurt\n",
            "0                                                                 Plain Bagels      False     False      False                   False\n",
            "1                                                                 Plain Bagels      False     False      False                   False\n",
            "2                        siggi's Vanilla Icelandic-Style Nonfat Yogurt, 5.3 oz       True     False       True                   False\n",
            "3                                Zoi Honey Vanilla Whole Milk Greek Yogurt Tub       True     False      False                   False\n",
            "4  Yoplait Original Smooth Style Strawberry Flavored Low Fat Yogurt Tub, 32 oz       True     False      False                   False\n",
            "5  Yoplait Original Low Fat Lemon Burst Yogurt Cup, Made with Real Fruit, 6 oz       True     False      False                   False\n",
            "6                     Yoplait Original Low Fat French Vanilla Yogurt Cup, 6 oz       True     False      False                   False\n",
            "7                         Yoplait Light Very Vanilla Fat Free Yogurt Cup, 6 oz       True     False       True                   False\n",
            "8                                         Vanilla Bean Whole Milk Greek Yogurt       True     False      False                   False\n",
            "9                                                       Vanilla & Cream Yogurt       True     False      False                   False\n"
          ]
        }
      ]
    },
    {
      "cell_type": "code",
      "source": [
        "# Display examples based on our target variable\n",
        "print(\"\\nExample plain nonfat yogurt (is_plain_nonfat_yogurt = True):\")\n",
        "print(df[df['is_plain_nonfat_yogurt'] == True].head(30))"
      ],
      "metadata": {
        "colab": {
          "base_uri": "https://localhost:8080/"
        },
        "id": "6Bp-79nEtEeJ",
        "outputId": "ef7e81e5-7c92-4b94-e314-52864753e09a"
      },
      "execution_count": 101,
      "outputs": [
        {
          "output_type": "stream",
          "name": "stdout",
          "text": [
            "\n",
            "Example plain nonfat yogurt (is_plain_nonfat_yogurt = True):\n",
            "                                                                                                          product_title  is_yogurt  is_plain  is_nonfat  is_plain_nonfat_yogurt\n",
            "26                                                                 siggi's® Icelandic Skyr Nonfat Yogurt, Plain, 5.3 oz       True      True       True                    True\n",
            "27                                                                 siggi's® Icelandic Skyr Nonfat Yogurt, Plain, 24 oz.       True      True       True                    True\n",
            "28   siggi's® Icelandic Strained Nonfat Yogurt, Plain, 24 oz. Multiserving Container – Thick, Protein-Rich Yogurt Snack       True      True       True                    True\n",
            "29                                                                   siggi's Plain Icelandic Skyr Nonfat Yogurt - 24 Oz       True      True       True                    True\n",
            "30         siggi's Icelandic Strained Nonfat Yogurt, Plain, 5.3 oz. Single Serve Cup – Thick, Protein-Rich Yogurt Snack       True      True       True                    True\n",
            "44                                               Wallaby Organic Aussie Greek Nonfat Yogurt, Plain, 32 oz. USDA Organic       True      True       True                    True\n",
            "59                                                                Stonyfield Organic Greek Nonfat Yogurt, Plain, 32 oz.       True      True       True                    True\n",
            "60                         Stonyfield Farm Organic Smooth and Creamy Plain Greek Nonfat Yogurt, 32 Ounce -- 6 per Case.       True      True       True                    True\n",
            "63                                                                  Simple Truth Organic® Plain Nonfat Greek Yogurt Tub       True      True       True                    True\n",
            "87                                                                          Organic Greek Non-Fat - Plain Yogurt, 32 oz       True      True       True                    True\n",
            "88                                                                      Organic Aussie Greek Plain Nonfat Yogurt, 32 oz       True      True       True                    True\n",
            "89                                                                              Organic 0% Fat Plain Greek Yogurt, 2 lb       True      True       True                    True\n",
            "90                                    Oikos Dannon Core Plain Blended Nonfat Greek Yogurt, 5.3 Ounce Cup -- 12 per case       True      True       True                    True\n",
            "93                                                                                            Nonfat Plain Greek Yogurt       True      True       True                    True\n",
            "94                                                                                     Non-Fat Greek Yogurt Plain 5.3oz       True      True       True                    True\n",
            "95                                                                                      Non-Fat Greek Yogurt Plain 32oz       True      True       True                    True\n",
            "102                                                                   Nancy's Plain Organic Probiotic Nonfat Yogurt Tub       True      True       True                    True\n",
            "110                                                                               Lucerne Yogurt Fat Free Plain - 32 Oz       True      True       True                    True\n",
            "114                                                                         Lucerne Greek Yogurt Nonfat Plain - 5.3 Oz.       True      True       True                    True\n",
            "115                                                                          Lucerne Greek Yogurt Nonfat Plain - 32 Oz.       True      True       True                    True\n",
            "116                                                                               Kroger® Plain Nonfat Greek Yogurt Tub       True      True       True                    True\n",
            "117                                                                               Kroger® Plain Nonfat Greek Yogurt Cup       True      True       True                    True\n",
            "122                                                                                           Greek Nonfat Yogurt Plain       True      True       True                    True\n",
            "124                                                                              Great Value Plain Nonfat Yogurt, 32 oz       True      True       True                    True\n",
            "128                                              Great Value Greek Plain Nonfat Yogurt, 5.3 oz Cups (Plastic Container)       True      True       True                    True\n",
            "129                                                                    Great Value Greek Plain Nonfat Yogurt, 32 oz Tub       True      True       True                    True\n",
            "133                                                                       Fage® Total Plain 0% Milkfat Greek Yogurt Cup       True      True       True                    True\n",
            "138                                                                    FAGE Total Greek Yogurt, 0% Nonfat, Plain, 32 oz       True      True       True                    True\n",
            "142                                                   FAGE Total All Natural Nonfat Plain Greek Strained Yogurt, 5.3 oz       True      True       True                    True\n",
            "143                                                    FAGE Total All Natural Nonfat Plain Greek Strained Yogurt, 32 oz       True      True       True                    True\n"
          ]
        }
      ]
    },
    {
      "cell_type": "code",
      "source": [
        "print(\"\\nExample non-plain nonfat yogurt (is_plain_nonfat_yogurt = False):\")\n",
        "print(df[df['is_plain_nonfat_yogurt'] == False].head(30))"
      ],
      "metadata": {
        "colab": {
          "base_uri": "https://localhost:8080/"
        },
        "id": "whHTKmNWtOEg",
        "outputId": "333f2d6c-501f-443a-9107-533076b1601f"
      },
      "execution_count": 102,
      "outputs": [
        {
          "output_type": "stream",
          "name": "stdout",
          "text": [
            "\n",
            "Example non-plain nonfat yogurt (is_plain_nonfat_yogurt = False):\n",
            "                                                                  product_title  is_yogurt  is_plain  is_nonfat  is_plain_nonfat_yogurt\n",
            "0                                                                  Plain Bagels      False     False      False                   False\n",
            "1                                                                  Plain Bagels      False     False      False                   False\n",
            "2                         siggi's Vanilla Icelandic-Style Nonfat Yogurt, 5.3 oz       True     False       True                   False\n",
            "3                                 Zoi Honey Vanilla Whole Milk Greek Yogurt Tub       True     False      False                   False\n",
            "4   Yoplait Original Smooth Style Strawberry Flavored Low Fat Yogurt Tub, 32 oz       True     False      False                   False\n",
            "5   Yoplait Original Low Fat Lemon Burst Yogurt Cup, Made with Real Fruit, 6 oz       True     False      False                   False\n",
            "6                      Yoplait Original Low Fat French Vanilla Yogurt Cup, 6 oz       True     False      False                   False\n",
            "7                          Yoplait Light Very Vanilla Fat Free Yogurt Cup, 6 oz       True     False       True                   False\n",
            "8                                          Vanilla Bean Whole Milk Greek Yogurt       True     False      False                   False\n",
            "9                                                        Vanilla & Cream Yogurt       True     False      False                   False\n",
            "10                                                   Raspberries & Cream Yogurt       True     False      False                   False\n",
            "11                                                   Meyer Lemon & Cream Yogurt       True     False      False                   False\n",
            "12                                                   Blueberries & Cream Yogurt       True     False      False                   False\n",
            "13                        siggi's Vanilla Icelandic-Style Nonfat Yogurt, 5.3 oz       True     False       True                   False\n",
            "14                                Zoi Honey Vanilla Whole Milk Greek Yogurt Tub       True     False      False                   False\n",
            "15  Yoplait Original Smooth Style Strawberry Flavored Low Fat Yogurt Tub, 32 oz       True     False      False                   False\n",
            "16  Yoplait Original Low Fat Lemon Burst Yogurt Cup, Made with Real Fruit, 6 oz       True     False      False                   False\n",
            "17                     Yoplait Original Low Fat French Vanilla Yogurt Cup, 6 oz       True     False      False                   False\n",
            "18                         Yoplait Light Very Vanilla Fat Free Yogurt Cup, 6 oz       True     False       True                   False\n",
            "19                                         Vanilla Bean Whole Milk Greek Yogurt       True     False      False                   False\n",
            "20                                                       Vanilla & Cream Yogurt       True     False      False                   False\n",
            "21                                                   Raspberries & Cream Yogurt       True     False      False                   False\n",
            "22                                                   Meyer Lemon & Cream Yogurt       True     False      False                   False\n",
            "23                                                   Blueberries & Cream Yogurt       True     False      False                   False\n",
            "24                                 Icelandic Style Skyr Lowfat Raspberry Yogurt       True     False      False                   False\n",
            "25                                    Icelandic Style Skyr Lowfat Cherry Yogurt       True     False      False                   False\n",
            "31                             bettergoods Whole Milk Plain Greek Yogurt, 32 oz       True      True      False                   False\n",
            "32                                    Zoi, Greek Traditional Plain Yogurt 32 oz       True      True      False                   False\n",
            "33                                        Zoi Plain Whole Milk Greek Yogurt Tub       True      True      False                   False\n",
            "34                             Zoi Greek Yogurt Plain Traditional Style - 32 Oz       True      True      False                   False\n"
          ]
        }
      ]
    },
    {
      "cell_type": "code",
      "source": [
        "# Create a statistics table\n",
        "stats_data = {\n",
        "    'Metric': ['Total products', 'Yogurt products', 'Plain products', 'Nonfat products', 'Plain nonfat yogurt'],\n",
        "    'Count': [\n",
        "        len(df),\n",
        "        df['is_yogurt'].sum(),\n",
        "        df['is_plain'].sum(),\n",
        "        df['is_nonfat'].sum(),\n",
        "        df['is_plain_nonfat_yogurt'].sum()\n",
        "    ]\n",
        "}\n",
        "\n",
        "# Create DataFrame for the statistics\n",
        "stats_df = pandas.DataFrame(stats_data)\n",
        "\n",
        "# Display the statistics table\n",
        "print(\"\\nDataset Statistics:\")\n",
        "print(stats_df)"
      ],
      "metadata": {
        "colab": {
          "base_uri": "https://localhost:8080/"
        },
        "id": "UqWtSI6etFt3",
        "outputId": "5c5984df-f579-4614-baaa-e2a9ac0c76f2"
      },
      "execution_count": 103,
      "outputs": [
        {
          "output_type": "stream",
          "name": "stdout",
          "text": [
            "\n",
            "Dataset Statistics:\n",
            "                Metric  Count\n",
            "0       Total products    314\n",
            "1      Yogurt products    283\n",
            "2       Plain products    244\n",
            "3      Nonfat products     95\n",
            "4  Plain nonfat yogurt     81\n"
          ]
        }
      ]
    },
    {
      "cell_type": "code",
      "source": [
        "# Feature extraction using TF-IDF on the product title\n",
        "# Initialize TF-IDF vectorizer\n",
        "tfidf_vectorizer = sklearn.feature_extraction.text.TfidfVectorizer(\n",
        "    min_df=2,\n",
        "    max_df=0.9,\n",
        "    ngram_range=(1, 2),\n",
        "    stop_words='english'\n",
        ")\n",
        "\n",
        "# Fit and transform the product titles\n",
        "X_tfidf = tfidf_vectorizer.fit_transform(df['product_title'])\n",
        "\n",
        "# Get feature names\n",
        "feature_names = tfidf_vectorizer.get_feature_names_out()\n",
        "print(f\"\\nNumber of features extracted: {len(feature_names)}\")\n",
        "print(f\"Sample features: {', '.join(feature_names[:10])}\")"
      ],
      "metadata": {
        "colab": {
          "base_uri": "https://localhost:8080/"
        },
        "id": "bDt-VZ4RvLAJ",
        "outputId": "87bef6a4-4ee4-4112-d81f-966346dffb36"
      },
      "execution_count": 104,
      "outputs": [
        {
          "output_type": "stream",
          "name": "stdout",
          "text": [
            "\n",
            "Number of features extracted: 542\n",
            "Sample features: 02, 02 yogurt, 10, 10 pack, 100, 100 grass, 12, 12 case, 16, 16 oz\n"
          ]
        }
      ]
    },
    {
      "cell_type": "code",
      "source": [
        "# Prepare the target variable\n",
        "y = df['is_plain_nonfat_yogurt']\n",
        "\n",
        "# Split the data into training and testing sets\n",
        "X_train, X_test, y_train, y_test = sklearn.model_selection.train_test_split(\n",
        "    X_tfidf,\n",
        "    y,\n",
        "    test_size=0.3,\n",
        "    random_state=42,\n",
        "    stratify=y\n",
        ")\n",
        "\n",
        "# Print dataset sizes using shape attribute instead of len()\n",
        "print(f\"\\nTraining set size: {X_train.shape[0]}\")\n",
        "print(f\"Testing set size: {X_test.shape[0]}\")"
      ],
      "metadata": {
        "colab": {
          "base_uri": "https://localhost:8080/"
        },
        "id": "0nei3fsxyTAK",
        "outputId": "8a6a4363-7653-4000-9eba-978451887bb4"
      },
      "execution_count": 105,
      "outputs": [
        {
          "output_type": "stream",
          "name": "stdout",
          "text": [
            "\n",
            "Training set size: 219\n",
            "Testing set size: 95\n"
          ]
        }
      ]
    },
    {
      "cell_type": "code",
      "source": [
        "# Initialize and train the Random Forest classifier\n",
        "rf_classifier = sklearn.ensemble.RandomForestClassifier(\n",
        "    n_estimators=100,\n",
        "    max_depth=10,\n",
        "    min_samples_split=5,\n",
        "    min_samples_leaf=2,\n",
        "    random_state=42\n",
        ")\n",
        "\n",
        "# Train the model\n",
        "rf_classifier.fit(X_train, y_train)\n",
        "\n",
        "# Make predictions\n",
        "y_pred = rf_classifier.predict(X_test)\n",
        "\n",
        "# Evaluate the model\n",
        "accuracy = sklearn.metrics.accuracy_score(y_test, y_pred)\n",
        "classification_report_str = sklearn.metrics.classification_report(y_test, y_pred)\n",
        "conf_matrix = sklearn.metrics.confusion_matrix(y_test, y_pred)\n",
        "\n",
        "# Print evaluation metrics\n",
        "print(f\"\\nAccuracy: {accuracy:.4f}\")\n",
        "print(\"\\nClassification Report:\")\n",
        "print(classification_report_str)\n",
        "\n",
        "# Display confusion matrix as text\n",
        "print(\"\\nConfusion Matrix:\")\n",
        "print(conf_matrix)\n",
        "\n",
        "# Display confusion matrix as heatmap\n",
        "plt_figure = matplotlib.pyplot.figure(figsize=(8, 6))\n",
        "seaborn.heatmap(\n",
        "    conf_matrix,\n",
        "    annot=True,\n",
        "    fmt='d',\n",
        "    cmap='Blues',\n",
        "    xticklabels=['Not Plain Nonfat Yogurt', 'Plain Nonfat Yogurt'],\n",
        "    yticklabels=['Not Plain Nonfat Yogurt', 'Plain Nonfat Yogurt']\n",
        ")\n",
        "matplotlib.pyplot.xlabel('Predicted')\n",
        "matplotlib.pyplot.ylabel('Actual')\n",
        "matplotlib.pyplot.title('Confusion Matrix for Plain Nonfat Yogurt Classification')\n",
        "matplotlib.pyplot.tight_layout()\n",
        "matplotlib.pyplot.show()\n",
        "\n",
        "# Get feature importance\n",
        "feature_importances = rf_classifier.feature_importances_\n",
        "\n",
        "# Create a DataFrame for the top N features\n",
        "n_top_features = 15\n",
        "indices = numpy.argsort(feature_importances)[-n_top_features:]\n",
        "top_features_df = pandas.DataFrame({\n",
        "    'Feature': [feature_names[i] for i in indices],\n",
        "    'Importance': feature_importances[indices]\n",
        "}).sort_values('Importance', ascending=False)\n",
        "\n",
        "# Display top features\n",
        "print(f\"\\nTop {n_top_features} Features:\")\n",
        "print(top_features_df)\n",
        "\n",
        "# Get probability predictions\n",
        "y_proba = rf_classifier.predict_proba(X_test)[:, 1]  # Probability of being plain nonfat yogurt\n",
        "\n",
        "# Try different thresholds to maximize recall\n",
        "thresholds = numpy.arange(0.05, 0.95, 0.05)\n",
        "best_threshold = 0.5  # Start with default\n",
        "best_recall = sklearn.metrics.recall_score(y_test, y_pred)\n",
        "results = []\n",
        "\n",
        "# Test each threshold\n",
        "for threshold in thresholds:\n",
        "    y_pred_threshold = (y_proba >= threshold).astype(int)\n",
        "    recall = sklearn.metrics.recall_score(y_test, y_pred_threshold)\n",
        "    precision = sklearn.metrics.precision_score(y_test, y_pred_threshold, zero_division=0)\n",
        "    f1 = sklearn.metrics.f1_score(y_test, y_pred_threshold, zero_division=0)\n",
        "    results.append({\n",
        "        'threshold': threshold,\n",
        "        'recall': recall,\n",
        "        'precision': precision,\n",
        "        'f1': f1\n",
        "    })\n",
        "    # Update best threshold if recall improves\n",
        "    if recall > best_recall:\n",
        "        best_recall = recall\n",
        "        best_threshold = threshold\n",
        "\n",
        "# Apply the optimal threshold\n",
        "y_pred_optimized = (y_proba >= best_threshold).astype(int)\n",
        "opt_conf_matrix = sklearn.metrics.confusion_matrix(y_test, y_pred_optimized)\n",
        "\n",
        "# Compare results\n",
        "print(f\"\\nOptimal threshold for maximizing recall: {best_threshold}\")\n",
        "print(f\"Original recall: {sklearn.metrics.recall_score(y_test, y_pred)}\")\n",
        "print(f\"Optimized recall: {best_recall}\")\n",
        "print(f\"Original false negatives: {conf_matrix[1, 0]}\")\n",
        "print(f\"Optimized false negatives: {opt_conf_matrix[1, 0]}\")"
      ],
      "metadata": {
        "colab": {
          "base_uri": "https://localhost:8080/",
          "height": 1000
        },
        "id": "_y69wKJwyao4",
        "outputId": "b9dbade7-cdf2-4631-a79f-515677fbd9bf"
      },
      "execution_count": 106,
      "outputs": [
        {
          "output_type": "stream",
          "name": "stdout",
          "text": [
            "\n",
            "Accuracy: 0.9053\n",
            "\n",
            "Classification Report:\n",
            "              precision    recall  f1-score   support\n",
            "\n",
            "       False       0.89      1.00      0.94        70\n",
            "        True       1.00      0.64      0.78        25\n",
            "\n",
            "    accuracy                           0.91        95\n",
            "   macro avg       0.94      0.82      0.86        95\n",
            "weighted avg       0.92      0.91      0.90        95\n",
            "\n",
            "\n",
            "Confusion Matrix:\n",
            "[[70  0]\n",
            " [ 9 16]]\n"
          ]
        },
        {
          "output_type": "display_data",
          "data": {
            "text/plain": [
              "<Figure size 800x600 with 2 Axes>"
            ],
            "image/png": "[encoded data removed]"
          },
          "metadata": {}
        },
        {
          "output_type": "stream",
          "name": "stdout",
          "text": [
            "\n",
            "Top 15 Features:\n",
            "          Feature  Importance\n",
            "14         nonfat    0.115437\n",
            "13        non fat    0.066560\n",
            "12  nonfat yogurt    0.057417\n",
            "11          greek    0.038711\n",
            "10            fat    0.032972\n",
            "9    plain nonfat    0.031151\n",
            "8    greek yogurt    0.028750\n",
            "7             non    0.027375\n",
            "6    nonfat plain    0.027271\n",
            "5           plain    0.024887\n",
            "4     chobani non    0.023892\n",
            "3         chobani    0.023816\n",
            "2    nonfat greek    0.023660\n",
            "1      yogurt cup    0.022831\n",
            "0            milk    0.019989\n",
            "\n",
            "Optimal threshold for maximizing recall: 0.05\n",
            "Original recall: 0.64\n",
            "Optimized recall: 1.0\n",
            "Original false negatives: 9\n",
            "Optimized false negatives: 0\n"
          ]
        }
      ]
    },
    {
      "cell_type": "code",
      "source": [
        "# Convert to DataFrame and display\n",
        "balance_df = pandas.DataFrame(good_thresholds)\n",
        "if not balance_df.empty:\n",
        "    print(\"\\nThresholds with recall ≥ original recall:\")\n",
        "    print(balance_df.sort_values('false_positives'))\n",
        "\n",
        "    # Find a better balanced threshold - one with highest recall but fewer false positives\n",
        "    # Get thresholds with the highest recall\n",
        "    max_recall = balance_df['recall'].max()\n",
        "    high_recall_df = balance_df[balance_df['recall'] == max_recall]\n",
        "\n",
        "    if not high_recall_df.empty:\n",
        "        # From those with highest recall, get the one with fewest false positives\n",
        "        balanced_threshold = high_recall_df.loc[high_recall_df['false_positives'].idxmin(), 'threshold']\n",
        "    else:\n",
        "        # Otherwise get the threshold with the best F1 score\n",
        "        balanced_threshold = balance_df.loc[balance_df['f1'].idxmax(), 'threshold']\n",
        "\n",
        "    # Apply the balanced threshold\n",
        "    y_pred_balanced = (y_proba >= balanced_threshold).astype(int)\n",
        "    balanced_conf_matrix = sklearn.metrics.confusion_matrix(y_test, y_pred_balanced)\n",
        "\n",
        "    print(f\"\\nBetter balanced threshold: {balanced_threshold}\")\n",
        "    print(f\"Recall: {sklearn.metrics.recall_score(y_test, y_pred_balanced)}\")\n",
        "    print(f\"Precision: {sklearn.metrics.precision_score(y_test, y_pred_balanced)}\")\n",
        "    print(f\"F1 Score: {sklearn.metrics.f1_score(y_test, y_pred_balanced)}\")\n",
        "    print(f\"False negatives: {balanced_conf_matrix[1, 0]}\")\n",
        "    print(f\"False positives: {balanced_conf_matrix[0, 1]}\")"
      ],
      "metadata": {
        "colab": {
          "base_uri": "https://localhost:8080/"
        },
        "id": "a-uiS3_M2c-w",
        "outputId": "acad770a-9c6c-4464-da34-c364b867acec"
      },
      "execution_count": 107,
      "outputs": [
        {
          "output_type": "stream",
          "name": "stdout",
          "text": [
            "\n",
            "Thresholds with recall ≥ original recall:\n",
            "    threshold  recall  precision        f1  false_positives  false_negatives\n",
            "40       0.45    0.72   1.000000  0.837209                0                7\n",
            "39       0.44    0.72   1.000000  0.837209                0                7\n",
            "37       0.42    0.76   1.000000  0.863636                0                6\n",
            "38       0.43    0.72   1.000000  0.837209                0                7\n",
            "43       0.48    0.68   1.000000  0.809524                0                8\n",
            "42       0.47    0.68   1.000000  0.809524                0                8\n",
            "41       0.46    0.68   1.000000  0.809524                0                8\n",
            "44       0.49    0.68   1.000000  0.809524                0                8\n",
            "36       0.41    0.76   1.000000  0.863636                0                6\n",
            "35       0.40    0.76   1.000000  0.863636                0                6\n",
            "34       0.39    0.76   1.000000  0.863636                0                6\n",
            "33       0.38    0.84   1.000000  0.913043                0                4\n",
            "32       0.37    0.92   0.958333  0.938776                1                2\n",
            "31       0.36    0.96   0.888889  0.923077                3                1\n",
            "30       0.35    0.96   0.827586  0.888889                5                1\n",
            "27       0.32    0.96   0.774194  0.857143                7                1\n",
            "29       0.34    0.96   0.774194  0.857143                7                1\n",
            "28       0.33    0.96   0.774194  0.857143                7                1\n",
            "24       0.29    0.96   0.774194  0.857143                7                1\n",
            "26       0.31    0.96   0.774194  0.857143                7                1\n",
            "25       0.30    0.96   0.774194  0.857143                7                1\n",
            "23       0.28    1.00   0.757576  0.862069                8                0\n",
            "22       0.27    1.00   0.694444  0.819672               11                0\n",
            "15       0.20    1.00   0.657895  0.793651               13                0\n",
            "18       0.23    1.00   0.657895  0.793651               13                0\n",
            "19       0.24    1.00   0.657895  0.793651               13                0\n",
            "16       0.21    1.00   0.657895  0.793651               13                0\n",
            "14       0.19    1.00   0.657895  0.793651               13                0\n",
            "21       0.26    1.00   0.657895  0.793651               13                0\n",
            "20       0.25    1.00   0.657895  0.793651               13                0\n",
            "17       0.22    1.00   0.657895  0.793651               13                0\n",
            "12       0.17    1.00   0.641026  0.781250               14                0\n",
            "13       0.18    1.00   0.641026  0.781250               14                0\n",
            "11       0.16    1.00   0.625000  0.769231               15                0\n",
            "10       0.15    1.00   0.568182  0.724638               19                0\n",
            "9        0.14    1.00   0.555556  0.714286               20                0\n",
            "8        0.13    1.00   0.531915  0.694444               22                0\n",
            "7        0.12    1.00   0.520833  0.684932               23                0\n",
            "6        0.11    1.00   0.471698  0.641026               28                0\n",
            "5        0.10    1.00   0.438596  0.609756               32                0\n",
            "4        0.09    1.00   0.403226  0.574713               37                0\n",
            "3        0.08    1.00   0.357143  0.526316               45                0\n",
            "2        0.07    1.00   0.320513  0.485437               53                0\n",
            "1        0.06    1.00   0.290698  0.450450               61                0\n",
            "0        0.05    1.00   0.268817  0.423729               68                0\n",
            "\n",
            "Better balanced threshold: 0.28\n",
            "Recall: 1.0\n",
            "Precision: 0.7575757575757576\n",
            "F1 Score: 0.8620689655172413\n",
            "False negatives: 0\n",
            "False positives: 8\n"
          ]
        }
      ]
    },
    {
      "cell_type": "markdown",
      "source": [
        "This table shows the performance of your plain nonfat yogurt classifier at different probability thresholds, sorted by the number of false positives (from lowest to highest). Let me explain what each column means:\n",
        "\n",
        "**Threshold**: The probability cutoff for classifying something as plain nonfat yogurt.\n",
        "\n",
        "**Recall**: The percentage of actual plain nonfat yogurts that were correctly identified. Higher is better.\n",
        "- At threshold 0.28, recall is 1.00 (100%), meaning all plain nonfat yogurts were caught\n",
        "- As threshold increases above 0.35, recall drops (e.g., 0.96, 0.92, etc.), meaning more yogurts are missed\n",
        "\n",
        "**Precision**: The percentage of predicted plain nonfat yogurts that were actually correct. Higher is better.\n",
        "- At threshold 0.38 and above, precision reaches 1.00 (100%), meaning zero false positives\n",
        "- As threshold decreases, precision drops (more false positives)\n",
        "\n",
        "**F1**: The harmonic mean of precision and recall, providing a balanced metric.\n",
        "- The highest F1 score (0.938776) occurs at threshold 0.37, showing the best balance\n",
        "\n",
        "**False Positives**: Non-plain nonfat yogurt products incorrectly classified as plain nonfat yogurt.\n",
        "- Increases as threshold decreases\n",
        "- At threshold 0.38 and above, there are zero false positives\n",
        "\n",
        "**False Negatives**: Plain nonfat yogurt products incorrectly classified as not plain nonfat yogurt.\n",
        "- Increases as threshold increases\n",
        "- At threshold 0.28 and below, there are zero false negatives\n",
        "\n",
        "This table demonstrates the classic precision-recall tradeoff:\n",
        "- Lower thresholds (0.05-0.28): Perfect recall but more false positives\n",
        "- Middle thresholds (0.29-0.37): Good balance between precision and recall\n",
        "- Higher thresholds (0.38-0.49): Perfect precision but more false negatives\n",
        "\n",
        "Your optimal threshold depends on your priorities:\n",
        "- If missing ANY plain nonfat yogurt is unacceptable: use 0.28\n",
        "- If the best overall balance is desired: use 0.37 (highest F1 score)\n",
        "- If you cannot tolerate ANY false positives: use 0.38 or higher"
      ],
      "metadata": {
        "id": "eCh3T3ys2leH"
      }
    },
    {
      "cell_type": "code",
      "source": [
        "# Show the optimized confusion matrix\n",
        "plt_figure = matplotlib.pyplot.figure(figsize=(8, 6))\n",
        "seaborn.heatmap(\n",
        "    opt_conf_matrix,\n",
        "    annot=True,\n",
        "    fmt='d',\n",
        "    cmap='Blues',\n",
        "    xticklabels=['Not Plain Nonfat Yogurt', 'Plain Nonfat Yogurt'],\n",
        "    yticklabels=['Not Plain Nonfat Yogurt', 'Plain Nonfat Yogurt']\n",
        ")\n",
        "matplotlib.pyplot.xlabel('Predicted')\n",
        "matplotlib.pyplot.ylabel('Actual')\n",
        "matplotlib.pyplot.title(f'Confusion Matrix with Optimized Threshold ({best_threshold})')\n",
        "matplotlib.pyplot.tight_layout()\n",
        "matplotlib.pyplot.show()"
      ],
      "metadata": {
        "colab": {
          "base_uri": "https://localhost:8080/",
          "height": 607
        },
        "id": "7_YaBsTIyltE",
        "outputId": "e8cba88f-d566-4a69-e64c-3284fab4de05"
      },
      "execution_count": 108,
      "outputs": [
        {
          "output_type": "display_data",
          "data": {
            "text/plain": [
              "<Figure size 800x600 with 2 Axes>"
            ],
            "image/png": "[encoded data removed]"
          },
          "metadata": {}
        }
      ]
    },
    {
      "cell_type": "code",
      "source": [
        "# Explore thresholds that balance recall and precision better\n",
        "# Look for thresholds with improved recall (at least as good as default)\n",
        "good_thresholds = []\n",
        "for threshold in numpy.arange(0.05, 0.5, 0.01):  # Finer granularity\n",
        "    y_pred_threshold = (y_proba >= threshold).astype(int)\n",
        "    recall = sklearn.metrics.recall_score(y_test, y_pred_threshold)\n",
        "    precision = sklearn.metrics.precision_score(y_test, y_pred_threshold, zero_division=0)\n",
        "    f1 = sklearn.metrics.f1_score(y_test, y_pred_threshold, zero_division=0)\n",
        "    fp = sklearn.metrics.confusion_matrix(y_test, y_pred_threshold)[0, 1]  # False positives\n",
        "    fn = sklearn.metrics.confusion_matrix(y_test, y_pred_threshold)[1, 0]  # False negatives\n",
        "\n",
        "    if recall >= sklearn.metrics.recall_score(y_test, y_pred):  # At least as good as original recall\n",
        "        good_thresholds.append({\n",
        "            'threshold': threshold,\n",
        "            'recall': recall,\n",
        "            'precision': precision,\n",
        "            'f1': f1,\n",
        "            'false_positives': fp,\n",
        "            'false_negatives': fn\n",
        "        })"
      ],
      "metadata": {
        "id": "0jX2gjuv08-i"
      },
      "execution_count": 109,
      "outputs": []
    },
    {
      "cell_type": "code",
      "source": [
        "# Explore thresholds that balance recall and precision better\n",
        "# Look for thresholds with improved recall (at least as good as default)\n",
        "good_thresholds = []\n",
        "for threshold in numpy.arange(0.05, 0.5, 0.01):  # Finer granularity\n",
        "    y_pred_threshold = (y_proba >= threshold).astype(int)\n",
        "    recall = sklearn.metrics.recall_score(y_test, y_pred_threshold)\n",
        "    precision = sklearn.metrics.precision_score(y_test, y_pred_threshold, zero_division=0)\n",
        "    f1 = sklearn.metrics.f1_score(y_test, y_pred_threshold, zero_division=0)\n",
        "    fp = sklearn.metrics.confusion_matrix(y_test, y_pred_threshold)[0, 1]  # False positives\n",
        "    fn = sklearn.metrics.confusion_matrix(y_test, y_pred_threshold)[1, 0]  # False negatives\n",
        "\n",
        "    if recall >= sklearn.metrics.recall_score(y_test, y_pred):  # At least as good as original recall\n",
        "        good_thresholds.append({\n",
        "            'threshold': threshold,\n",
        "            'recall': recall,\n",
        "            'precision': precision,\n",
        "            'f1': f1,\n",
        "            'false_positives': fp,\n",
        "            'false_negatives': fn\n",
        "        })\n",
        "\n"
      ],
      "metadata": {
        "id": "fR2NOhhi1Cso"
      },
      "execution_count": 110,
      "outputs": []
    },
    {
      "cell_type": "code",
      "source": [
        "# Show the balanced confusion matrix\n",
        "if not balance_df.empty:\n",
        "    # (previous code inside the if block)\n",
        "\n",
        "    # This part should be inside the if block\n",
        "    plt_figure = matplotlib.pyplot.figure(figsize=(8, 6))\n",
        "    seaborn.heatmap(\n",
        "        balanced_conf_matrix,\n",
        "        annot=True,\n",
        "        fmt='d',\n",
        "        cmap='Blues',\n",
        "        xticklabels=['Not Plain Nonfat Yogurt', 'Plain Nonfat Yogurt'],\n",
        "        yticklabels=['Not Plain Nonfat Yogurt', 'Plain Nonfat Yogurt']\n",
        "    )\n",
        "    matplotlib.pyplot.xlabel('Predicted')\n",
        "    matplotlib.pyplot.ylabel('Actual')\n",
        "    matplotlib.pyplot.title(f'Confusion Matrix with Balanced Threshold ({balanced_threshold})')\n",
        "    matplotlib.pyplot.tight_layout()\n",
        "    matplotlib.pyplot.show()\n",
        "else:\n",
        "    print(\"\\nNo thresholds found with recall better than or equal to original.\")\n",
        "\n",
        "\n"
      ],
      "metadata": {
        "colab": {
          "base_uri": "https://localhost:8080/",
          "height": 607
        },
        "id": "H3oTMbrv1LGu",
        "outputId": "db142c81-c09b-43ae-c5f5-712e1349bad2"
      },
      "execution_count": 111,
      "outputs": [
        {
          "output_type": "display_data",
          "data": {
            "text/plain": [
              "<Figure size 800x600 with 2 Axes>"
            ],
            "image/png": "[encoded data removed]"
          },
          "metadata": {}
        }
      ]
    },
    {
      "cell_type": "markdown",
      "source": [
        "These metrics reveal the performance of your optimized plain nonfat yogurt classifier with a threshold of 0.28. Let me explain what each value means:\n",
        "\n",
        "**Better balanced threshold: 0.28**\n",
        "- This is the probability threshold that was found to give the best balance between recall and precision\n",
        "- Instead of using the default 0.5 probability, the model classifies anything with a probability ≥ 0.28 as a plain nonfat yogurt\n",
        "\n",
        "**Recall: 1.0**\n",
        "- Also known as sensitivity or true positive rate\n",
        "- This perfect 1.0 score means the model correctly identified 100% of all actual plain nonfat yogurt products\n",
        "- In other words, the model didn't miss any plain nonfat yogurts (zero false negatives)\n",
        "\n",
        "**Precision: 0.7575757575757576**\n",
        "- This measures what percentage of items predicted as plain nonfat yogurt actually were plain nonfat yogurt\n",
        "- About 76% of products that the model classified as plain nonfat yogurt truly were plain nonfat yogurt\n",
        "- The remaining 24% were false positives (items incorrectly labeled as plain nonfat yogurt)\n",
        "\n",
        "**F1 Score: 0.8620689655172413**\n",
        "- This is the harmonic mean of precision and recall, providing a single metric that balances both\n",
        "- At ~0.86, this indicates very good overall performance that balances both identifying all true plain nonfat yogurts while minimizing false positives\n",
        "\n",
        "**False negatives: 0**\n",
        "- This is the number of actual plain nonfat yogurts that the model incorrectly classified as not plain nonfat yogurt\n",
        "- Zero means the model didn't miss any plain nonfat yogurts - perfect recall\n",
        "\n",
        "**False positives: 8**\n",
        "- This is the number of products that are not plain nonfat yogurt but were incorrectly classified as plain nonfat yogurt\n",
        "- These 8 products likely contain words or phrases in their titles that are commonly associated with plain nonfat yogurt\n",
        "\n",
        "The results show you've achieved a very good classifier! By lowering the threshold to 0.28, you've ensured that all plain nonfat yogurts are correctly identified (perfect recall) while maintaining a good precision of ~76%. This means the model will catch all plain nonfat yogurts at the cost of occasionally mislabeling about 1 in 4 of its positive predictions."
      ],
      "metadata": {
        "id": "r1iQ13wptxGu"
      }
    },
    {
      "cell_type": "markdown",
      "source": [
        "This confusion matrix heatmap shows the performance of your plain nonfat yogurt classifier with the balanced threshold of 0.28.\n",
        "\n",
        "Looking at the four key values in the matrix:\n",
        "\n",
        "- Top-left (62): True Negatives - 62 products were correctly identified as not being plain nonfat yogurt\n",
        "- Top-right (8): False Positives - 8 products were incorrectly classified as plain nonfat yogurt when they weren't\n",
        "- Bottom-left (0): False Negatives - 0 plain nonfat yogurt products were misclassified (perfect recall)\n",
        "- Bottom-right (25): True Positives - 25 products were correctly identified as plain nonfat yogurt\n",
        "\n",
        "The darker blue color in the true negative cell indicates a higher count, while the lighter blue in the true positive cell reflects the smaller number of plain nonfat yogurt products in your test set. The model perfectly classified all actual plain nonfat yogurts (25/25) while incorrectly classifying only a small number (8) of non-plain nonfat yogurt products.\n",
        "\n",
        "The test set contained 70 products (62+8+0+25), with about 36% being plain nonfat yogurt (25/70). This visualization confirms your excellent results, especially the perfect recall (catching all actual plain nonfat yogurts) with only a small number of false positives."
      ],
      "metadata": {
        "id": "T1E2k-LkuGHE"
      }
    },
    {
      "cell_type": "code",
      "source": [
        "# Start from our known good threshold with perfect recall\n",
        "current_threshold = 0.22\n",
        "max_threshold = current_threshold\n",
        "step_size = 0.01\n",
        "still_perfect = True\n",
        "\n",
        "# We'll test thresholds incrementally until we find the tipping point\n",
        "while still_perfect and current_threshold < 1.0:\n",
        "    # Try the next threshold\n",
        "    next_threshold = current_threshold + step_size\n",
        "    y_pred_next = (y_proba >= next_threshold).astype(int)\n",
        "\n",
        "    # Check if we still have perfect recall\n",
        "    recall = sklearn.metrics.recall_score(y_test, y_pred_next)\n",
        "    false_negatives = sklearn.metrics.confusion_matrix(y_test, y_pred_next)[1, 0]\n",
        "\n",
        "    if recall < 1.0 or false_negatives > 0:\n",
        "        # We've found our limit - the current threshold is the maximum\n",
        "        still_perfect = False\n",
        "    else:\n",
        "        # This threshold still gives perfect recall, update and continue\n",
        "        current_threshold = next_threshold\n",
        "        max_threshold = current_threshold\n",
        "\n",
        "        # Calculate other metrics at this threshold\n",
        "        precision = sklearn.metrics.precision_score(y_test, y_pred_next)\n",
        "        f1 = sklearn.metrics.f1_score(y_test, y_pred_next)\n",
        "        conf_matrix = sklearn.metrics.confusion_matrix(y_test, y_pred_next)\n",
        "\n",
        "        print(f\"Threshold: {max_threshold:.2f}, Recall: {recall:.4f}, Precision: {precision:.4f}, F1: {f1:.4f}\")\n",
        "        print(f\"False Negatives: {false_negatives}, False Positives: {conf_matrix[0, 1]}\")\n",
        "        print(\"---\")\n",
        "\n",
        "print(f\"\\nMaximum threshold for perfect recall: {max_threshold:.4f}\")"
      ],
      "metadata": {
        "colab": {
          "base_uri": "https://localhost:8080/"
        },
        "id": "wMfEWkn5wbWq",
        "outputId": "8a084199-3870-4ff4-a145-bfce86253524"
      },
      "execution_count": 112,
      "outputs": [
        {
          "output_type": "stream",
          "name": "stdout",
          "text": [
            "Threshold: 0.23, Recall: 1.0000, Precision: 0.6579, F1: 0.7937\n",
            "False Negatives: 0, False Positives: 13\n",
            "---\n",
            "Threshold: 0.24, Recall: 1.0000, Precision: 0.6579, F1: 0.7937\n",
            "False Negatives: 0, False Positives: 13\n",
            "---\n",
            "Threshold: 0.25, Recall: 1.0000, Precision: 0.6579, F1: 0.7937\n",
            "False Negatives: 0, False Positives: 13\n",
            "---\n",
            "Threshold: 0.26, Recall: 1.0000, Precision: 0.6579, F1: 0.7937\n",
            "False Negatives: 0, False Positives: 13\n",
            "---\n",
            "Threshold: 0.27, Recall: 1.0000, Precision: 0.6944, F1: 0.8197\n",
            "False Negatives: 0, False Positives: 11\n",
            "---\n",
            "Threshold: 0.28, Recall: 1.0000, Precision: 0.7576, F1: 0.8621\n",
            "False Negatives: 0, False Positives: 8\n",
            "---\n",
            "\n",
            "Maximum threshold for perfect recall: 0.2800\n"
          ]
        }
      ]
    },
    {
      "cell_type": "markdown",
      "source": [
        "This result means that 0.28 is the highest probability threshold you can use while still maintaining perfect recall (not missing any plain nonfat yogurts).\n",
        "\n",
        "In practical terms:\n",
        "- Any product with a probability score of 0.28 or higher will be classified as plain nonfat yogurt\n",
        "- If you were to raise the threshold even slightly above 0.28 (e.g., to 0.29), at least one actual plain nonfat yogurt product would be misclassified\n",
        "- This is the optimal threshold if your top priority is to identify all plain nonfat yogurts, even at the cost of some false positives\n",
        "\n",
        "The score represents a delicate balance point in your model. At exactly 0.28, your classifier:\n",
        "1. Correctly identifies all 25 plain nonfat yogurts\n",
        "2. Has 8 false positives (non-plain nonfat products classified as plain nonfat)\n",
        "3. Achieves a precision of about 76%\n",
        "\n",
        "If you wanted to improve precision (reduce false positives), you would need to increase the threshold above 0.28, but this would come at the cost of beginning to miss some actual plain nonfat yogurts."
      ],
      "metadata": {
        "id": "fBhkwLwuwyKx"
      }
    }
  ]
}